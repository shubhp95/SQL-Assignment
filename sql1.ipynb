{
 "cells": [
  {
   "cell_type": "code",
   "execution_count": 7,
   "id": "98a40917-e696-4bbc-83ff-874789822d95",
   "metadata": {},
   "outputs": [],
   "source": [
    "#Ans1:A database is a structured collection of data that is stored and managed in a way that allows for efficient retrieval, manipulation, and organization. It serves as a repository for data, ensuring that it is stored in a systematic manner so that it can be easily accessed, updated, and managed\n",
    "#SQL Databases\n",
    "#1.Structure: SQL databases are relational, meaning they use structured schemas with predefined tables and relationships. Data is stored in rows and columns.\n",
    "#2.Data Integrity:SQL databases ensure ACID (Atomicity, Consistency, Isolation, Durability) \n",
    "#3.Scalability:Traditionally, SQL databases scale vertically, meaning you add more power (CPU, RAM) to a single server to handle increased loads.\n",
    "#NoSQL Databases\n",
    "#1.Structure:NoSQL databases are often schema-less or have flexible schemas. Data can be stored in various formats including key-value pairs, documents, wide-columns, or graphs.\n",
    "#2.Data Integrity:NoSQL databases often follow BASE (Basically Available, Soft state, Eventually consistent) principles, which offer more flexible consistency models compared to ACID.\n",
    "#3.Data Integrity:NoSQL databases often follow BASE (Basically Available, Soft state, Eventually consistent) principles, which offer more flexible consistency models compared to ACID.\n"
   ]
  },
  {
   "cell_type": "code",
   "execution_count": 9,
   "id": "5036e68a-7494-4c47-8254-325db40fdc3a",
   "metadata": {},
   "outputs": [],
   "source": [
    "#Ans2:DDL stands for Data Definition Language. It comprises a subset of SQL commands used to define and manage the structure of database objects such as tables, indexes, and schemas. \n",
    "#1. CREATE:The CREATE command is used to create new database objects such as tables, indexes, views, and schemas.\n",
    "#Example:  CREATE TABLE Employees (\n",
    "            #EmployeeID INT PRIMARY KEY,\n",
    "            #Name VARCHAR(50),\n",
    "            #Position VARCHAR(50)\n",
    "            #);\n",
    "#2. DROP:The DROP command is used to delete existing database objects like tables, indexes, or views.\n",
    "#Example: DROP TABLE Employees;\n",
    "#3. ALTER:The ALTER command is used to modify the structure of an existing database object, such as adding, deleting, or modifying columns in a table.\n",
    "#Example: ALTER TABLE Employees\n",
    "#         ADD DateOfJoining DATE;\n",
    "#4. TRUNCATET:The TRUNCATE command is used to remove all rows from a table, but unlike DROP, it does not remove the table itself. It also resets any auto-increment counters.\n",
    "#Example: TRUNCATE TABLE Employees;\n"
   ]
  },
  {
   "cell_type": "code",
   "execution_count": 11,
   "id": "02cead11-befb-4b18-88c8-762dd71a2b19",
   "metadata": {},
   "outputs": [],
   "source": [
    "#Ans3:DML stands for Data Manipulation Language. It is a subset of SQL commands used for managing and manipulating the data within a database. \n",
    "#1. INSERT:The INSERT command is used to add new rows of data into a table.\n",
    "#Example:- \n",
    "#          INSERT INTO Employees (EmployeeID, Name, Position, DateOfJoining)\n",
    "#          VALUES (1, 'Alice Johnson', 'Software Engineer', '2024-08-16');\n",
    "#2.DELETE:The DELETE command is used to remove one or more rows from a table.\n",
    "#Example:- \n",
    "#         DELETE FROM Employees\n",
    "#         WHERE EmployeeID = 1;\n",
    "#3. UPDATE: The UPDATE command is used to modify existing records in a table.\n",
    "#Example:- UPDATE Employees\n",
    "#          SET Position = 'Senior Software Engineer'\n",
    "#          WHERE EmployeeID = 1;\n"
   ]
  },
  {
   "cell_type": "code",
   "execution_count": 13,
   "id": "93fef820-48b0-4bca-bacd-b363a72acaf1",
   "metadata": {},
   "outputs": [],
   "source": [
    "#Ans4: DQL stands for Data Query Language. It is a subset of SQL commands used for querying and retrieving data from a database.\n",
    "#SELECT Command: The SELECT command is used to query the database and fetch data according to the specified criteria.\n",
    "#Example:- SELECT column1, column2, ...\n",
    "#          SELECT Position, AVG(Salary) AS AverageSalary\n",
    "#          FROM Employees\n",
    "#          GROUP BY Position;\n",
    "\n",
    "\n",
    "\n"
   ]
  },
  {
   "cell_type": "code",
   "execution_count": null,
   "id": "239b7d4c-f8a8-4b2d-a911-fa4b4e698d81",
   "metadata": {},
   "outputs": [],
   "source": [
    "#Ans5: a.Primary Key: A primary key is a unique identifier for a record within a database table. It ensures that each record can be uniquely identified and retrieved. \n",
    "#      b.Foreign Key: A foreign key is a column or set of columns in one table that uniquely identifies a row in another table.\n",
    "import mysql.connector\n",
    "from mysql.connector import Error\n",
    "\n",
    "def connect_to_mysql():\n",
    "    \"\"\"Connect to MySQL database and perform a simple query.\"\"\"\n",
    "    try:\n",
    "        \n",
    "        connection = mysql.connector.connect(\n",
    "            host='localhost',          # Replace with your host\n",
    "            user='root',               # Replace with your MySQL username\n",
    "            password='password',       # Replace with your MySQL password\n",
    "            database='test_db'         # Replace with your database name\n",
    "        )\n",
    "\n",
    "        if connection.is_connected():\n",
    "            print(\"Successfully connected to the database\")\n",
    "\n",
    "            cursor = connection.cursor()\n",
    "            cursor.execute(\"SELECT DATABASE();\")\n",
    "            db_name = cursor.fetchone()\n",
    "            print(f\"Connected to database: {db_name[0]}\")\n",
    "\n",
    "    except Error as e:\n",
    "        print(f\"Error: {e}\")\n",
    "\n",
    "    finally:\n",
    "        if connection.is_connected():\n",
    "            cursor.close()\n",
    "            connection.close()\n",
    "            print(\"Database connection closed\")\n",
    "\n",
    "if __name__ == \"__main__\":\n",
    "    connect_to_mysql()"
   ]
  },
  {
   "cell_type": "code",
   "execution_count": 15,
   "id": "003a440c-4d34-4158-a3c6-321a6d45a121",
   "metadata": {},
   "outputs": [
    {
     "ename": "ModuleNotFoundError",
     "evalue": "No module named 'mysql'",
     "output_type": "error",
     "traceback": [
      "\u001b[1;31m---------------------------------------------------------------------------\u001b[0m",
      "\u001b[1;31mModuleNotFoundError\u001b[0m                       Traceback (most recent call last)",
      "Cell \u001b[1;32mIn[15], line 2\u001b[0m\n\u001b[0;32m      1\u001b[0m \u001b[38;5;66;03m#Ans6: \u001b[39;00m\n\u001b[1;32m----> 2\u001b[0m \u001b[38;5;28;01mimport\u001b[39;00m \u001b[38;5;21;01mmysql\u001b[39;00m\u001b[38;5;21;01m.\u001b[39;00m\u001b[38;5;21;01mconnector\u001b[39;00m\n\u001b[0;32m      3\u001b[0m \u001b[38;5;28;01mfrom\u001b[39;00m \u001b[38;5;21;01mmysql\u001b[39;00m\u001b[38;5;21;01m.\u001b[39;00m\u001b[38;5;21;01mconnector\u001b[39;00m \u001b[38;5;28;01mimport\u001b[39;00m Error\n\u001b[0;32m      5\u001b[0m \u001b[38;5;28;01mtry\u001b[39;00m:\n",
      "\u001b[1;31mModuleNotFoundError\u001b[0m: No module named 'mysql'"
     ]
    }
   ],
   "source": [
    "#Ans6:\n",
    "#Firstly install mysql module then follow with the below code-\n",
    "import mysql.connector\n",
    "from mysql.connector import Error\n",
    "\n",
    "try:\n",
    "    connection = mysql.connector.connect(\n",
    "        host='localhost',      # Replace with your host\n",
    "        user='root',           # Replace with your MySQL username\n",
    "        password='password',   # Replace with your MySQL password\n",
    "        database='test_db'     # Replace with your database name\n",
    "    )\n",
    "    \n",
    "    if connection.is_connected():\n",
    "        print(\"Connected to the database\")\n",
    "        cursor = connection.cursor()\n",
    "        cursor.execute(\"SELECT DATABASE();\")\n",
    "        db_name = cursor.fetchone()\n",
    "        print(f\"Connected to database: {db_name[0]}\")\n",
    "except Error as e:\n",
    "    print(f\"Error: {e}\")\n",
    "finally:\n",
    "    if connection.is_connected():\n",
    "        cursor.close()\n",
    "        connection.close()\n",
    "        print(\"Database connection closed\")\n",
    "        \n",
    "#cursor(): The cursor() method is used to create a cursor object.\n",
    "#execute():The execute() method is used to execute a SQL query or command through the cursor object."
   ]
  },
  {
   "cell_type": "code",
   "execution_count": 5,
   "id": "6b6de892-e144-4bb1-8f19-677f356adfa9",
   "metadata": {},
   "outputs": [],
   "source": [
    "#Ans7: \n",
    "#1.SELECT \n",
    "#2.FROM \n",
    "#3.JOIN \n",
    "#4.WHERE \n",
    "#5.GROUP \n",
    "#6.HAVING \n",
    "#7.ORDER \n",
    "#8.LIMIT "
   ]
  },
  {
   "cell_type": "code",
   "execution_count": null,
   "id": "8567e135-6a7b-4ba3-a3f6-6510a4e23473",
   "metadata": {},
   "outputs": [],
   "source": []
  }
 ],
 "metadata": {
  "kernelspec": {
   "display_name": "Python 3 (ipykernel)",
   "language": "python",
   "name": "python3"
  },
  "language_info": {
   "codemirror_mode": {
    "name": "ipython",
    "version": 3
   },
   "file_extension": ".py",
   "mimetype": "text/x-python",
   "name": "python",
   "nbconvert_exporter": "python",
   "pygments_lexer": "ipython3",
   "version": "3.12.4"
  }
 },
 "nbformat": 4,
 "nbformat_minor": 5
}
